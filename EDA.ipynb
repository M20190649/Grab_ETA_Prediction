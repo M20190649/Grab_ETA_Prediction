{
 "cells": [
  {
   "cell_type": "code",
   "execution_count": 41,
   "metadata": {},
   "outputs": [],
   "source": [
    "import pyarrow.parquet as pq\n",
    "import pandas as pd\n",
    "import numpy as np\n",
    "import tqdm\n",
    "import gpxpy\n",
    "import gpxpy.gpx\n",
    "import os\n",
    "from datetime import datetime, timezone\n"
   ]
  },
  {
   "cell_type": "code",
   "execution_count": 44,
   "metadata": {},
   "outputs": [],
   "source": [
    "SG_data_path = \"D:/repos/Grab_ETA_Prediction/data/grab-posis-city=Singapore/city=Singapore\"\n",
    "dataset = pq.ParquetDataset(SG_data_path)\n",
    "table = dataset.read()\n"
   ]
  },
  {
   "cell_type": "code",
   "execution_count": 47,
   "metadata": {},
   "outputs": [
    {
     "data": {
      "text/html": [
       "<div>\n",
       "<style scoped>\n",
       "    .dataframe tbody tr th:only-of-type {\n",
       "        vertical-align: middle;\n",
       "    }\n",
       "\n",
       "    .dataframe tbody tr th {\n",
       "        vertical-align: top;\n",
       "    }\n",
       "\n",
       "    .dataframe thead th {\n",
       "        text-align: right;\n",
       "    }\n",
       "</style>\n",
       "<table border=\"1\" class=\"dataframe\">\n",
       "  <thead>\n",
       "    <tr style=\"text-align: right;\">\n",
       "      <th></th>\n",
       "      <th>trj_id</th>\n",
       "      <th>rawlat</th>\n",
       "      <th>rawlng</th>\n",
       "      <th>pingtimestamp</th>\n",
       "      <th>speed</th>\n",
       "    </tr>\n",
       "  </thead>\n",
       "  <tbody>\n",
       "    <tr>\n",
       "      <th>0</th>\n",
       "      <td>70014</td>\n",
       "      <td>1.342326</td>\n",
       "      <td>103.888969</td>\n",
       "      <td>1554943236</td>\n",
       "      <td>18.910000</td>\n",
       "    </tr>\n",
       "    <tr>\n",
       "      <th>1</th>\n",
       "      <td>73573</td>\n",
       "      <td>1.321781</td>\n",
       "      <td>103.856366</td>\n",
       "      <td>1555582623</td>\n",
       "      <td>17.719076</td>\n",
       "    </tr>\n",
       "    <tr>\n",
       "      <th>2</th>\n",
       "      <td>75567</td>\n",
       "      <td>1.327088</td>\n",
       "      <td>103.861273</td>\n",
       "      <td>1555141026</td>\n",
       "      <td>14.021548</td>\n",
       "    </tr>\n",
       "    <tr>\n",
       "      <th>3</th>\n",
       "      <td>1410</td>\n",
       "      <td>1.262482</td>\n",
       "      <td>103.823794</td>\n",
       "      <td>1555731693</td>\n",
       "      <td>13.026521</td>\n",
       "    </tr>\n",
       "    <tr>\n",
       "      <th>4</th>\n",
       "      <td>4354</td>\n",
       "      <td>1.283799</td>\n",
       "      <td>103.807210</td>\n",
       "      <td>1555584497</td>\n",
       "      <td>14.812943</td>\n",
       "    </tr>\n",
       "    <tr>\n",
       "      <th>...</th>\n",
       "      <td>...</td>\n",
       "      <td>...</td>\n",
       "      <td>...</td>\n",
       "      <td>...</td>\n",
       "      <td>...</td>\n",
       "    </tr>\n",
       "    <tr>\n",
       "      <th>30329680</th>\n",
       "      <td>72196</td>\n",
       "      <td>1.326351</td>\n",
       "      <td>103.890147</td>\n",
       "      <td>1554771148</td>\n",
       "      <td>5.880000</td>\n",
       "    </tr>\n",
       "    <tr>\n",
       "      <th>30329681</th>\n",
       "      <td>58589</td>\n",
       "      <td>1.322549</td>\n",
       "      <td>103.970248</td>\n",
       "      <td>1555842124</td>\n",
       "      <td>25.285847</td>\n",
       "    </tr>\n",
       "    <tr>\n",
       "      <th>30329682</th>\n",
       "      <td>80684</td>\n",
       "      <td>1.300553</td>\n",
       "      <td>103.907405</td>\n",
       "      <td>1554720657</td>\n",
       "      <td>20.533981</td>\n",
       "    </tr>\n",
       "    <tr>\n",
       "      <th>30329683</th>\n",
       "      <td>498</td>\n",
       "      <td>1.347160</td>\n",
       "      <td>103.966904</td>\n",
       "      <td>1554990704</td>\n",
       "      <td>25.770779</td>\n",
       "    </tr>\n",
       "    <tr>\n",
       "      <th>30329684</th>\n",
       "      <td>82408</td>\n",
       "      <td>1.420871</td>\n",
       "      <td>103.798199</td>\n",
       "      <td>1554688141</td>\n",
       "      <td>1.330000</td>\n",
       "    </tr>\n",
       "  </tbody>\n",
       "</table>\n",
       "<p>30329685 rows × 5 columns</p>\n",
       "</div>"
      ],
      "text/plain": [
       "         trj_id    rawlat      rawlng  pingtimestamp      speed\n",
       "0         70014  1.342326  103.888969     1554943236  18.910000\n",
       "1         73573  1.321781  103.856366     1555582623  17.719076\n",
       "2         75567  1.327088  103.861273     1555141026  14.021548\n",
       "3          1410  1.262482  103.823794     1555731693  13.026521\n",
       "4          4354  1.283799  103.807210     1555584497  14.812943\n",
       "...         ...       ...         ...            ...        ...\n",
       "30329680  72196  1.326351  103.890147     1554771148   5.880000\n",
       "30329681  58589  1.322549  103.970248     1555842124  25.285847\n",
       "30329682  80684  1.300553  103.907405     1554720657  20.533981\n",
       "30329683    498  1.347160  103.966904     1554990704  25.770779\n",
       "30329684  82408  1.420871  103.798199     1554688141   1.330000\n",
       "\n",
       "[30329685 rows x 5 columns]"
      ]
     },
     "execution_count": 47,
     "metadata": {},
     "output_type": "execute_result"
    }
   ],
   "source": [
    "pd_table"
   ]
  },
  {
   "cell_type": "code",
   "execution_count": 46,
   "metadata": {},
   "outputs": [],
   "source": [
    "pd_table = table.to_pandas()\n",
    "gpx_traces = np.array([])\n",
    "NUM_TRIPS_TO_ANALYZE = 1\n",
    "# TRJ_IDX, LAT_IDX, LNG_IDX = 0, 4, 5\n",
    "pd_table = pd_table[[\"trj_id\", \"rawlat\", \"rawlng\", \"pingtimestamp\", \"speed\"]]\n",
    "TRJ_IDX, LAT_IDX, LNG_IDX, PINGTIMESTAMP_IDX, SPEED_IDX = 0, 1, 2, 3, 4"
   ]
  },
  {
   "cell_type": "code",
   "execution_count": 48,
   "metadata": {},
   "outputs": [],
   "source": [
    "all_trj_ids = pd_table.trj_id.unique()"
   ]
  },
  {
   "cell_type": "code",
   "execution_count": 49,
   "metadata": {},
   "outputs": [],
   "source": [
    "def extract_xml(trj_id, trj_gps_list):\n",
    "    gpx = gpxpy.gpx.GPX()\n",
    "\n",
    "    gpx_track = gpxpy.gpx.GPXTrack()\n",
    "    gpx.tracks.append(gpx_track)\n",
    "\n",
    "    # Create first segment in our GPX track:\n",
    "    gpx_segment = gpxpy.gpx.GPXTrackSegment()\n",
    "    gpx_track.segments.append(gpx_segment)\n",
    "\n",
    "    for gps in trj_gps_lst:\n",
    "        lat, lng, speed, pingtime = gps[[LAT_IDX, LNG_IDX, SPEED_IDX, PINGTIMESTAMP_IDX]]\n",
    "        pingtime = datetime.datetime.utcfromtimestamp(float(pingtime))\n",
    "        gpx_segment.points.append(gpxpy.gpx.GPXTrackPoint(lat, lng, speed=speed, time=pingtime, elevation=1234))\n",
    "#     print('Created GPX:', gpx.to_xml())\n",
    "    \n",
    "    folder_to_save_path = \"D:/repos/third-party/map-matching/matching-web/src/test/resources/grab_sg\"\n",
    "    file_name = trj_id + \".gpx\"\n",
    "    f = open(os.path.join(folder_to_save_path, file_name), \"w\")\n",
    "    f.write(gpx.to_xml(version=\"1.0\"))\n",
    "    f.close()\n"
   ]
  },
  {
   "cell_type": "code",
   "execution_count": null,
   "metadata": {},
   "outputs": [],
   "source": [
    "np_table = pd.DataFrame.to_numpy(pd_table)\n"
   ]
  },
  {
   "cell_type": "code",
   "execution_count": 90,
   "metadata": {},
   "outputs": [
    {
     "name": "stdout",
     "output_type": "stream",
     "text": [
      "475378464-0\n",
      "546689528-0\n",
      "316209674-0\n",
      "257183870-0\n",
      "422962325-4\n",
      "455246818-22\n"
     ]
    },
    {
     "ename": "KeyboardInterrupt",
     "evalue": "",
     "output_type": "error",
     "traceback": [
      "\u001b[1;31m---------------------------------------------------------------------------\u001b[0m",
      "\u001b[1;31mKeyboardInterrupt\u001b[0m                         Traceback (most recent call last)",
      "\u001b[1;32m<ipython-input-90-0522656e8062>\u001b[0m in \u001b[0;36m<module>\u001b[1;34m\u001b[0m\n\u001b[0;32m      2\u001b[0m \u001b[1;32mfor\u001b[0m \u001b[0mgps_samp\u001b[0m \u001b[1;32min\u001b[0m \u001b[0mnp_table\u001b[0m\u001b[1;33m:\u001b[0m\u001b[1;33m\u001b[0m\u001b[1;33m\u001b[0m\u001b[0m\n\u001b[0;32m      3\u001b[0m     \u001b[0mlat\u001b[0m\u001b[1;33m,\u001b[0m \u001b[0mlng\u001b[0m \u001b[1;33m=\u001b[0m \u001b[0mgps_samp\u001b[0m\u001b[1;33m[\u001b[0m\u001b[1;33m[\u001b[0m\u001b[0mLAT_IDX\u001b[0m\u001b[1;33m,\u001b[0m \u001b[0mLNG_IDX\u001b[0m\u001b[1;33m]\u001b[0m\u001b[1;33m]\u001b[0m\u001b[1;33m\u001b[0m\u001b[1;33m\u001b[0m\u001b[0m\n\u001b[1;32m----> 4\u001b[1;33m     \u001b[0mprint\u001b[0m\u001b[1;33m(\u001b[0m\u001b[0mget_shortest_edge\u001b[0m\u001b[1;33m(\u001b[0m\u001b[0mG\u001b[0m\u001b[1;33m,\u001b[0m \u001b[0mlat\u001b[0m\u001b[1;33m,\u001b[0m \u001b[0mlng\u001b[0m\u001b[1;33m)\u001b[0m\u001b[1;33m)\u001b[0m\u001b[1;33m\u001b[0m\u001b[1;33m\u001b[0m\u001b[0m\n\u001b[0m",
      "\u001b[1;32m<ipython-input-85-9ab4050a2550>\u001b[0m in \u001b[0;36mget_shortest_edge\u001b[1;34m(G, lat, lng)\u001b[0m\n\u001b[0;32m      7\u001b[0m                                  \u001b[0mG\u001b[0m\u001b[1;33m.\u001b[0m\u001b[0mnode\u001b[0m\u001b[1;33m[\u001b[0m\u001b[0mnodeA\u001b[0m\u001b[1;33m]\u001b[0m\u001b[1;33m[\u001b[0m\u001b[1;34m\"data\"\u001b[0m\u001b[1;33m]\u001b[0m\u001b[1;33m.\u001b[0m\u001b[0mlat\u001b[0m\u001b[1;33m,\u001b[0m \u001b[0mG\u001b[0m\u001b[1;33m.\u001b[0m\u001b[0mnode\u001b[0m\u001b[1;33m[\u001b[0m\u001b[0mnodeA\u001b[0m\u001b[1;33m]\u001b[0m\u001b[1;33m[\u001b[0m\u001b[1;34m\"data\"\u001b[0m\u001b[1;33m]\u001b[0m\u001b[1;33m.\u001b[0m\u001b[0mlon\u001b[0m\u001b[1;33m,\u001b[0m\u001b[1;33m\u001b[0m\u001b[1;33m\u001b[0m\u001b[0m\n\u001b[0;32m      8\u001b[0m                                  G.node[nodeB][\"data\"].lat, G.node[nodeB][\"data\"].lon)\n\u001b[1;32m----> 9\u001b[1;33m                     for nodeA, nodeB in G.edges()]\n\u001b[0m\u001b[0;32m     10\u001b[0m     \u001b[0mnodeA\u001b[0m\u001b[1;33m,\u001b[0m \u001b[0mnodeB\u001b[0m \u001b[1;33m=\u001b[0m \u001b[0mG\u001b[0m\u001b[1;33m.\u001b[0m\u001b[0medges\u001b[0m\u001b[1;33m(\u001b[0m\u001b[1;33m)\u001b[0m\u001b[1;33m[\u001b[0m\u001b[0mnp\u001b[0m\u001b[1;33m.\u001b[0m\u001b[0margmin\u001b[0m\u001b[1;33m(\u001b[0m\u001b[0mdistance_arr\u001b[0m\u001b[1;33m)\u001b[0m\u001b[1;33m]\u001b[0m\u001b[1;33m\u001b[0m\u001b[1;33m\u001b[0m\u001b[0m\n\u001b[0;32m     11\u001b[0m     \u001b[0medge\u001b[0m \u001b[1;33m=\u001b[0m \u001b[0mG\u001b[0m\u001b[1;33m.\u001b[0m\u001b[0mget_edge_data\u001b[0m\u001b[1;33m(\u001b[0m\u001b[0mnodeA\u001b[0m\u001b[1;33m,\u001b[0m \u001b[0mnodeB\u001b[0m\u001b[1;33m)\u001b[0m\u001b[1;33m[\u001b[0m\u001b[1;34m\"data\"\u001b[0m\u001b[1;33m]\u001b[0m\u001b[1;33m\u001b[0m\u001b[1;33m\u001b[0m\u001b[0m\n",
      "\u001b[1;32m<ipython-input-85-9ab4050a2550>\u001b[0m in \u001b[0;36m<listcomp>\u001b[1;34m(.0)\u001b[0m\n\u001b[0;32m      7\u001b[0m                                  \u001b[0mG\u001b[0m\u001b[1;33m.\u001b[0m\u001b[0mnode\u001b[0m\u001b[1;33m[\u001b[0m\u001b[0mnodeA\u001b[0m\u001b[1;33m]\u001b[0m\u001b[1;33m[\u001b[0m\u001b[1;34m\"data\"\u001b[0m\u001b[1;33m]\u001b[0m\u001b[1;33m.\u001b[0m\u001b[0mlat\u001b[0m\u001b[1;33m,\u001b[0m \u001b[0mG\u001b[0m\u001b[1;33m.\u001b[0m\u001b[0mnode\u001b[0m\u001b[1;33m[\u001b[0m\u001b[0mnodeA\u001b[0m\u001b[1;33m]\u001b[0m\u001b[1;33m[\u001b[0m\u001b[1;34m\"data\"\u001b[0m\u001b[1;33m]\u001b[0m\u001b[1;33m.\u001b[0m\u001b[0mlon\u001b[0m\u001b[1;33m,\u001b[0m\u001b[1;33m\u001b[0m\u001b[1;33m\u001b[0m\u001b[0m\n\u001b[0;32m      8\u001b[0m                                  G.node[nodeB][\"data\"].lat, G.node[nodeB][\"data\"].lon)\n\u001b[1;32m----> 9\u001b[1;33m                     for nodeA, nodeB in G.edges()]\n\u001b[0m\u001b[0;32m     10\u001b[0m     \u001b[0mnodeA\u001b[0m\u001b[1;33m,\u001b[0m \u001b[0mnodeB\u001b[0m \u001b[1;33m=\u001b[0m \u001b[0mG\u001b[0m\u001b[1;33m.\u001b[0m\u001b[0medges\u001b[0m\u001b[1;33m(\u001b[0m\u001b[1;33m)\u001b[0m\u001b[1;33m[\u001b[0m\u001b[0mnp\u001b[0m\u001b[1;33m.\u001b[0m\u001b[0margmin\u001b[0m\u001b[1;33m(\u001b[0m\u001b[0mdistance_arr\u001b[0m\u001b[1;33m)\u001b[0m\u001b[1;33m]\u001b[0m\u001b[1;33m\u001b[0m\u001b[1;33m\u001b[0m\u001b[0m\n\u001b[0;32m     11\u001b[0m     \u001b[0medge\u001b[0m \u001b[1;33m=\u001b[0m \u001b[0mG\u001b[0m\u001b[1;33m.\u001b[0m\u001b[0mget_edge_data\u001b[0m\u001b[1;33m(\u001b[0m\u001b[0mnodeA\u001b[0m\u001b[1;33m,\u001b[0m \u001b[0mnodeB\u001b[0m\u001b[1;33m)\u001b[0m\u001b[1;33m[\u001b[0m\u001b[1;34m\"data\"\u001b[0m\u001b[1;33m]\u001b[0m\u001b[1;33m\u001b[0m\u001b[1;33m\u001b[0m\u001b[0m\n",
      "\u001b[1;32m<ipython-input-85-9ab4050a2550>\u001b[0m in \u001b[0;36mget_distance\u001b[1;34m(lat, lng, lat1, lng1, lat2, lng2)\u001b[0m\n\u001b[0;32m      1\u001b[0m \u001b[1;32mdef\u001b[0m \u001b[0mget_distance\u001b[0m\u001b[1;33m(\u001b[0m\u001b[0mlat\u001b[0m\u001b[1;33m,\u001b[0m \u001b[0mlng\u001b[0m\u001b[1;33m,\u001b[0m \u001b[0mlat1\u001b[0m\u001b[1;33m,\u001b[0m \u001b[0mlng1\u001b[0m\u001b[1;33m,\u001b[0m \u001b[0mlat2\u001b[0m\u001b[1;33m,\u001b[0m \u001b[0mlng2\u001b[0m\u001b[1;33m)\u001b[0m\u001b[1;33m:\u001b[0m\u001b[1;33m\u001b[0m\u001b[1;33m\u001b[0m\u001b[0m\n\u001b[0;32m      2\u001b[0m     \u001b[1;32mreturn\u001b[0m \u001b[0mabs\u001b[0m\u001b[1;33m(\u001b[0m\u001b[1;33m(\u001b[0m\u001b[0mlng2\u001b[0m\u001b[1;33m-\u001b[0m\u001b[0mlng1\u001b[0m\u001b[1;33m)\u001b[0m \u001b[1;33m*\u001b[0m \u001b[0mlat\u001b[0m \u001b[1;33m-\u001b[0m \u001b[1;33m(\u001b[0m\u001b[0mlat2\u001b[0m \u001b[1;33m-\u001b[0m \u001b[0mlat1\u001b[0m\u001b[1;33m)\u001b[0m \u001b[1;33m*\u001b[0m \u001b[0mlng\u001b[0m \u001b[1;33m+\u001b[0m \u001b[0mlat2\u001b[0m\u001b[1;33m*\u001b[0m\u001b[0mlng1\u001b[0m \u001b[1;33m-\u001b[0m \u001b[0mlat1\u001b[0m\u001b[1;33m*\u001b[0m\u001b[0mlng2\u001b[0m\u001b[1;33m)\u001b[0m\u001b[0;31m \u001b[0m\u001b[0;31m\\\u001b[0m\u001b[1;33m\u001b[0m\u001b[1;33m\u001b[0m\u001b[0m\n\u001b[1;32m----> 3\u001b[1;33m \u001b[1;33m/\u001b[0m \u001b[0mnp\u001b[0m\u001b[1;33m.\u001b[0m\u001b[0msqrt\u001b[0m\u001b[1;33m(\u001b[0m\u001b[1;33m(\u001b[0m\u001b[0mlat2\u001b[0m\u001b[1;33m-\u001b[0m\u001b[0mlat1\u001b[0m\u001b[1;33m)\u001b[0m\u001b[1;33m**\u001b[0m\u001b[1;36m2\u001b[0m \u001b[1;33m+\u001b[0m\u001b[1;33m(\u001b[0m\u001b[0mlng2\u001b[0m\u001b[1;33m-\u001b[0m\u001b[0mlng1\u001b[0m\u001b[1;33m)\u001b[0m\u001b[1;33m**\u001b[0m\u001b[1;36m2\u001b[0m\u001b[1;33m)\u001b[0m\u001b[1;33m\u001b[0m\u001b[1;33m\u001b[0m\u001b[0m\n\u001b[0m\u001b[0;32m      4\u001b[0m \u001b[1;33m\u001b[0m\u001b[0m\n\u001b[0;32m      5\u001b[0m \u001b[1;32mdef\u001b[0m \u001b[0mget_shortest_edge\u001b[0m\u001b[1;33m(\u001b[0m\u001b[0mG\u001b[0m\u001b[1;33m,\u001b[0m \u001b[0mlat\u001b[0m\u001b[1;33m,\u001b[0m \u001b[0mlng\u001b[0m\u001b[1;33m)\u001b[0m\u001b[1;33m:\u001b[0m\u001b[1;33m\u001b[0m\u001b[1;33m\u001b[0m\u001b[0m\n",
      "\u001b[1;31mKeyboardInterrupt\u001b[0m: "
     ]
    }
   ],
   "source": [
    "for gps_samp in np_table:\n",
    "    lat, lng = gps_samp[[LAT_IDX, LNG_IDX]]\n",
    "    print(get_shortest_edge(G, lat, lng))"
   ]
  },
  {
   "cell_type": "code",
   "execution_count": null,
   "metadata": {},
   "outputs": [],
   "source": [
    "grouped = pd_table.sort_values([\"pingtimestamp\"]).groupby(\"trj_id\")\n"
   ]
  },
  {
   "cell_type": "code",
   "execution_count": 149,
   "metadata": {},
   "outputs": [
    {
     "name": "stderr",
     "output_type": "stream",
     "text": [
      "100%|████████████████████████████████████████████████████████████████████████████| 28000/28000 [20:26<00:00, 22.83it/s]\n"
     ]
    }
   ],
   "source": [
    "# trj_gps_lst = pd_table[pd_table[\"trj_id\"] == trj_id].sort_values([\"pingtimestamp\"])\n",
    "# trj_gps_lst = pd.DataFrame.to_numpy(trj_gps_lst)\n",
    "\n",
    "for trj_id, trj_gps_lst in tqdm.tqdm(grouped):\n",
    "#     print(trj_id)\n",
    "    trj_gps_lst = pd.DataFrame.to_numpy(trj_gps_lst)\n",
    "    extract_xml(trj_id, trj_gps_lst)"
   ]
  },
  {
   "cell_type": "code",
   "execution_count": 85,
   "metadata": {},
   "outputs": [],
   "source": [
    "def get_distance(lat, lng, lat1, lng1, lat2, lng2):\n",
    "    return abs((lng2-lng1) * lat - (lat2 - lat1) * lng + lat2*lng1 - lat1*lng2) \\\n",
    "/ np.sqrt((lat2-lat1)**2 +(lng2-lng1)**2)\n",
    "    \n",
    "def get_shortest_edge(G, lat, lng):\n",
    "    distance_arr = [get_distance(lat, lng, \n",
    "                                 G.node[nodeA][\"data\"].lat, G.node[nodeA][\"data\"].lon,\n",
    "                                 G.node[nodeB][\"data\"].lat, G.node[nodeB][\"data\"].lon)\n",
    "                    for nodeA, nodeB in G.edges()]\n",
    "    nodeA, nodeB = G.edges()[np.argmin(distance_arr)]\n",
    "    edge = G.get_edge_data(nodeA, nodeB)[\"data\"]\n",
    "    return edge.id\n"
   ]
  },
  {
   "cell_type": "code",
   "execution_count": 86,
   "metadata": {},
   "outputs": [
    {
     "data": {
      "text/plain": [
       "'758639039-0'"
      ]
     },
     "execution_count": 86,
     "metadata": {},
     "output_type": "execute_result"
    }
   ],
   "source": [
    "get_shortest_edge(G, 0, 0)"
   ]
  },
  {
   "cell_type": "code",
   "execution_count": 81,
   "metadata": {},
   "outputs": [
    {
     "data": {
      "text/plain": [
       "'758639039-0'"
      ]
     },
     "execution_count": 81,
     "metadata": {},
     "output_type": "execute_result"
    }
   ],
   "source": [
    "nodeA, nodeB = G.edges()[np.argmin(distance_arr)]\n",
    "edge = G.get_edge_data(nodeA, nodeB)[\"data\"]\n",
    "edge.id"
   ]
  },
  {
   "cell_type": "code",
   "execution_count": 21,
   "metadata": {},
   "outputs": [],
   "source": [
    "osm_file_xml_path = \"D:/repos/third-party/map-matching/map-data/Singapore.osm/Singapore.osm\"\n",
    "G = read_osm(osm_file_xml_path)"
   ]
  },
  {
   "cell_type": "code",
   "execution_count": 74,
   "metadata": {},
   "outputs": [
    {
     "name": "stdout",
     "output_type": "stream",
     "text": [
      "544198\n",
      "597272\n",
      "('4748500344', '6427627507')\n"
     ]
    },
    {
     "data": {
      "text/plain": [
       "1.3060184"
      ]
     },
     "execution_count": 74,
     "metadata": {},
     "output_type": "execute_result"
    }
   ],
   "source": [
    "print(len(G.nodes()))\n",
    "print(len(G.edges()))\n",
    "print(G.edges()[0])\n",
    "G.get_edge_data('4748500344', '6427627507')[\"data\"].nds\n",
    "G.node[\"4748500344\"][\"data\"].lat"
   ]
  },
  {
   "cell_type": "code",
   "execution_count": 20,
   "metadata": {},
   "outputs": [],
   "source": [
    "import xml.sax\n",
    "import copy\n",
    "import networkx\n",
    "\n",
    "def download_osm(left,bottom,right,top):\n",
    "    \"\"\" Return a filehandle to the downloaded data.\"\"\"\n",
    "    from urllib.request import urlopen\n",
    "    print( \"http://api.openstreetmap.org/api/0.6/map?bbox=%f,%f,%f,%f\"%(left,bottom,right,top))\n",
    "    fp = urlopen( \"http://api.openstreetmap.org/api/0.6/map?bbox=%f,%f,%f,%f\"%(left,bottom,right,top) )\n",
    "    return fp\n",
    "\n",
    "def read_osm(filename_or_stream, only_roads=True):\n",
    "    \"\"\"Read graph in OSM format from file specified by name or by stream object.\n",
    "    Parameters\n",
    "    ----------\n",
    "    filename_or_stream : filename or stream object\n",
    "    Returns\n",
    "    -------\n",
    "    G : Graph\n",
    "    Examples\n",
    "    --------\n",
    "    >>> G=nx.read_osm(nx.download_osm(-122.33,47.60,-122.31,47.61))\n",
    "    >>> plot([G.node[n]['data'].lat for n in G], [G.node[n]['data'].lon for n in G], ',')\n",
    "    \"\"\"\n",
    "    osm = OSM(filename_or_stream)\n",
    "    G = networkx.Graph()\n",
    "\n",
    "    for w in osm.ways.values():\n",
    "        if only_roads and 'highway' not in w.tags:\n",
    "            continue\n",
    "        G.add_path(w.nds, id=w.id, data=w)\n",
    "    for n_id in G.nodes_iter():\n",
    "        n = osm.nodes[n_id]\n",
    "        G.node[n_id] = dict(data=n)\n",
    "    return G\n",
    "        \n",
    "    \n",
    "class Node:\n",
    "    def __init__(self, id, lon, lat):\n",
    "        self.id = id\n",
    "        self.lon = lon\n",
    "        self.lat = lat\n",
    "        self.tags = {}\n",
    "        \n",
    "class Way:\n",
    "    def __init__(self, id, osm):\n",
    "        self.osm = osm\n",
    "        self.id = id\n",
    "        self.nds = []\n",
    "        self.tags = {}\n",
    "        \n",
    "    def split(self, dividers):\n",
    "        # slice the node-array using this nifty recursive function\n",
    "        def slice_array(ar, dividers):\n",
    "            for i in range(1,len(ar)-1):\n",
    "                if dividers[ar[i]]>1:\n",
    "                    #print \"slice at %s\"%ar[i]\n",
    "                    left = ar[:i+1]\n",
    "                    right = ar[i:]\n",
    "                    \n",
    "                    rightsliced = slice_array(right, dividers)\n",
    "                    \n",
    "                    return [left]+rightsliced\n",
    "            return [ar]\n",
    "            \n",
    "        slices = slice_array(self.nds, dividers)\n",
    "        \n",
    "        # create a way object for each node-array slice\n",
    "        ret = []\n",
    "        i=0\n",
    "        for slice in slices:\n",
    "            littleway = copy.copy( self )\n",
    "            littleway.id += \"-%d\"%i\n",
    "            littleway.nds = slice\n",
    "            ret.append( littleway )\n",
    "            i += 1\n",
    "            \n",
    "        return ret\n",
    "        \n",
    "        \n",
    "\n",
    "class OSM:\n",
    "    def __init__(self, filename_or_stream):\n",
    "        \"\"\" File can be either a filename or stream/file object.\"\"\"\n",
    "        nodes = {}\n",
    "        ways = {}\n",
    "        \n",
    "        superself = self\n",
    "        \n",
    "        class OSMHandler(xml.sax.ContentHandler):\n",
    "            @classmethod\n",
    "            def setDocumentLocator(self,loc):\n",
    "                pass\n",
    "            \n",
    "            @classmethod\n",
    "            def startDocument(self):\n",
    "                pass\n",
    "                \n",
    "            @classmethod\n",
    "            def endDocument(self):\n",
    "                pass\n",
    "                \n",
    "            @classmethod\n",
    "            def startElement(self, name, attrs):\n",
    "                if name=='node':\n",
    "                    self.currElem = Node(attrs['id'], float(attrs['lon']), float(attrs['lat']))\n",
    "                elif name=='way':\n",
    "                    self.currElem = Way(attrs['id'], superself)\n",
    "                elif name=='tag':\n",
    "                    self.currElem.tags[attrs['k']] = attrs['v']\n",
    "                elif name=='nd':\n",
    "                    self.currElem.nds.append( attrs['ref'] )\n",
    "                \n",
    "            @classmethod\n",
    "            def endElement(self,name):\n",
    "                if name=='node':\n",
    "                    nodes[self.currElem.id] = self.currElem\n",
    "                elif name=='way':\n",
    "                    ways[self.currElem.id] = self.currElem\n",
    "                \n",
    "            @classmethod\n",
    "            def characters(self, chars):\n",
    "                pass\n",
    "\n",
    "        xml.sax.parse(filename_or_stream, OSMHandler)\n",
    "        \n",
    "        self.nodes = nodes\n",
    "        self.ways = ways\n",
    "            \n",
    "        #count times each node is used\n",
    "        node_histogram = dict.fromkeys( self.nodes.keys(), 0 )\n",
    "        for way in list(self.ways.values()):\n",
    "            if len(way.nds) < 2:       #if a way has only one node, delete it out of the osm collection\n",
    "                del self.ways[way.id]\n",
    "            else:\n",
    "                for node in way.nds:\n",
    "                    node_histogram[node] += 1\n",
    "        \n",
    "        #use that histogram to split all ways, replacing the member set of ways\n",
    "        new_ways = {}\n",
    "        for id, way in self.ways.items():\n",
    "            split_ways = way.split(node_histogram)\n",
    "            for split_way in split_ways:\n",
    "                new_ways[split_way.id] = split_way\n",
    "        self.ways = new_ways"
   ]
  },
  {
   "cell_type": "code",
   "execution_count": null,
   "metadata": {},
   "outputs": [],
   "source": []
  }
 ],
 "metadata": {
  "kernelspec": {
   "display_name": "Python 3",
   "language": "python",
   "name": "python3"
  },
  "language_info": {
   "codemirror_mode": {
    "name": "ipython",
    "version": 3
   },
   "file_extension": ".py",
   "mimetype": "text/x-python",
   "name": "python",
   "nbconvert_exporter": "python",
   "pygments_lexer": "ipython3",
   "version": "3.7.7"
  }
 },
 "nbformat": 4,
 "nbformat_minor": 4
}
